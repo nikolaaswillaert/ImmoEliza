{
 "cells": [
  {
   "cell_type": "code",
   "execution_count": 6,
   "metadata": {},
   "outputs": [],
   "source": [
    "from bs4 import BeautifulSoup\n",
    "import requests\n",
    "import re "
   ]
  },
  {
   "cell_type": "code",
   "execution_count": null,
   "metadata": {},
   "outputs": [],
   "source": [
    "full_list_url = []\n",
    "\n",
    "for i in range(1,333):\n",
    "    base_url = f\"https://www.immoweb.be/en/search/house/for-sale?countries=BE&page={i}&orderBy=relevance\"\n",
    "    r = requests.get(base_url)\n",
    "    soup = BeautifulSoup(r.content, \"html.parser\")\n",
    "    \n",
    "    for elem in soup.find_all(\"a\", attrs={\"class\":\"card__title-link\"}):\n",
    "         full_list_url.append(elem.get('href'))\n",
    "         with open(\"full_list.txt\", \"a\") as f:\n",
    "            f.write(elem.get('href'))\n",
    "            f.write('\\n')\n",
    "            \n",
    "print(\"Written to text file Successfully!\")\n",
    "print(len(full_list_url))"
   ]
  },
  {
   "cell_type": "code",
   "execution_count": 16,
   "metadata": {},
   "outputs": [
    {
     "name": "stdout",
     "output_type": "stream",
     "text": [
      "Available as of\n",
      "Neighbourhood or locality\n",
      "Construction year\n",
      "Building condition\n",
      "Street frontage width\n",
      "Number of frontages\n",
      "Outdoor parking spaces\n",
      "Surroundings type\n",
      "Living area\n",
      "Living room surface\n",
      "Kitchen type\n",
      "Kitchen surface\n",
      "Bedrooms\n",
      "Bedroom 1 surface\n",
      "Bedroom 2 surface\n",
      "Bedroom 3 surface\n",
      "Bathrooms\n",
      "Toilets\n",
      "Furnished\n",
      "Surface of the plot\n",
      "Width of the lot on the street\n",
      "Connection to sewer network\n",
      "Gas, water &amp; electricity\n",
      "Garden surface\n",
      "Terrace surface\n",
      "Primary energy consumption\n",
      "Energy class\n",
      "None\n",
      "Reference number of the EPC report\n",
      "CO₂ emission\n",
      "Yearly theoretical total energy consumption\n",
      "Heating type\n",
      "Double glazing\n",
      "Total ground floor buildable\n",
      "Flood zone type\n",
      "Tenement building\n"
     ]
    }
   ],
   "source": [
    "full_url_data = {}\n",
    "\n",
    "url = \"https://www.immoweb.be/en/classified/house/for-sale/libin/6890/10657263\"\n",
    "house_page = requests.get(url)\n",
    "house_page = BeautifulSoup(house_page.text, 'html.parser')\n",
    "rows = house_page.find_all(\"tr\", attrs={\"class\": \"classified-table__row\"})\n",
    "for row in rows:\n",
    "    # Get keys to build dict\n",
    "    header = row.find(\"th\", attrs={\"class\": \"classified-table__header\"})\n",
    "    header = re.sub(\"\\<.*row\\\">\", \"\", str(header))\n",
    "    header = re.sub(\"\\<\\/th>\", \"\", str(header))\n",
    "    header = re.sub(\"( ){2,}\", \"\", str(header))\n",
    "    header = re.sub(\"\\\\n\", \"\", str(header))\n",
    "    print(header)\n",
    "    # Get values\n",
    "    data = row.find(\"td\", attrs={\"class\": \"classified-table__data\"})\n",
    "    data = re.sub(\"\\<.*data\\\">\", \"\", str(data))\n",
    "    data = re.sub(\"\\<\\/td>\", \"\", str(data))\n",
    "    data = re.sub(\"( ){2,}\", \"\", str(data))\n",
    "    data = re.sub(\"\\\\n\", \"\", str(data))\n",
    "    data = re.sub(\"\\<span.+span>\", \"\", str(data))\n",
    "    if header == \"Tenement building\": \n",
    "        break\n",
    "    else:\n",
    "        full_url_data[header] = data"
   ]
  },
  {
   "cell_type": "code",
   "execution_count": 15,
   "metadata": {},
   "outputs": [
    {
     "data": {
      "text/plain": [
       "{'Available as of': 'At delivery',\n",
       " 'Neighbourhood or locality': 'Zone Centre Province du Luxembourg',\n",
       " 'Construction year': '2023',\n",
       " 'Building condition': 'As new',\n",
       " 'Street frontage width': '7.85 m',\n",
       " 'Number of frontages': '3',\n",
       " 'Outdoor parking spaces': '1',\n",
       " 'Surroundings type': 'Isolated',\n",
       " 'Living area': '124',\n",
       " 'Living room surface': '28',\n",
       " 'Kitchen type': 'Not installed',\n",
       " 'Kitchen surface': '8',\n",
       " 'Bedrooms': '3',\n",
       " 'Bedroom 1 surface': '13',\n",
       " 'Bedroom 2 surface': '13',\n",
       " 'Bedroom 3 surface': '10',\n",
       " 'Bathrooms': '1',\n",
       " 'Toilets': '2',\n",
       " 'Furnished': 'No',\n",
       " 'Surface of the plot': '320',\n",
       " 'Width of the lot on the street': '',\n",
       " 'Connection to sewer network': 'Not connected',\n",
       " 'Gas, water &amp; electricity': 'Yes',\n",
       " 'Garden surface': '257',\n",
       " 'Terrace surface': '8',\n",
       " 'Primary energy consumption': '78',\n",
       " 'Energy class': 'A',\n",
       " 'None': 'None',\n",
       " 'Reference number of the EPC report': 'RWPEB-139341',\n",
       " 'CO₂ emission': '1 kg CO₂/m²',\n",
       " 'Yearly theoretical total energy consumption': '1 kWh/year',\n",
       " 'Heating type': 'Gas',\n",
       " 'Double glazing': 'Yes',\n",
       " 'Total ground floor buildable': '62',\n",
       " 'Flood zone type': 'Non flood zone'}"
      ]
     },
     "execution_count": 15,
     "metadata": {},
     "output_type": "execute_result"
    }
   ],
   "source": [
    "full_url_data"
   ]
  },
  {
   "cell_type": "code",
   "execution_count": null,
   "metadata": {},
   "outputs": [],
   "source": [
    "# - Locality TO EXTRACT\n",
    "# - Type of property (House/apartment) TO EXTRACT \n",
    "# - Subtype of property (Bungalow, Chalet, Mansion, ...) TO EXTRACT\n",
    "# - Price TO EXTRACT\n",
    "# - Type of sale (Exclusion of life sales) TO EXTRACT\n",
    "# - Open fire (Yes/No) ==> TO EXTRACT\n",
    "\n",
    "\n",
    "# - Number of rooms ==> OK 'Bedrooms'\n",
    "# - Living Area ==> OK 'Living area'\n",
    "# - Fully equipped kitchen (Yes/No) ==> OK 'Kitchen type'\n",
    "# - Furnished (Yes/No) ==> OK 'Furnished'\n",
    "\n",
    "# - Terrace (Yes/No) ==> OK 'Terrace surface'\n",
    "#   - If yes: Area ==> OK 'Terrace surface'\n",
    "# - Garden (Yes/No)==> OK 'Garden surface'\n",
    "#   - If yes: Area ==> OK 'Garden surface'\n",
    "# - Surface of the land ==> TO EXTRACT (?)\n",
    "# - Surface area of the plot of land ==> OK 'Surface of the plot'\n",
    "# - Number of facades ==> OK 'Number of frontages'\n",
    "# - Swimming pool (Yes/No) ==> TO EXTRACT (NEED TO GET HEADER ENERGY)\n",
    "# - State of the building (New, to be renovated, ...) ==> OK 'Building condition'"
   ]
  },
  {
   "cell_type": "code",
   "execution_count": null,
   "metadata": {},
   "outputs": [],
   "source": []
  },
  {
   "cell_type": "code",
   "execution_count": null,
   "metadata": {},
   "outputs": [],
   "source": []
  },
  {
   "cell_type": "code",
   "execution_count": null,
   "metadata": {},
   "outputs": [],
   "source": []
  },
  {
   "cell_type": "code",
   "execution_count": null,
   "metadata": {},
   "outputs": [],
   "source": []
  },
  {
   "cell_type": "code",
   "execution_count": null,
   "metadata": {},
   "outputs": [],
   "source": []
  }
 ],
 "metadata": {
  "kernelspec": {
   "display_name": "Python 3",
   "language": "python",
   "name": "python3"
  },
  "language_info": {
   "codemirror_mode": {
    "name": "ipython",
    "version": 3
   },
   "file_extension": ".py",
   "mimetype": "text/x-python",
   "name": "python",
   "nbconvert_exporter": "python",
   "pygments_lexer": "ipython3",
   "version": "3.11.2"
  },
  "orig_nbformat": 4
 },
 "nbformat": 4,
 "nbformat_minor": 2
}
